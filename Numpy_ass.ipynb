{
 "cells": [
  {
   "cell_type": "markdown",
   "metadata": {
    "id": "S2q1kcBa8gJi"
   },
   "source": [
    "**[Slide No. 5]**\n",
    "\n",
    "1. Write a Program to check the version numpy installed ."
   ]
  },
  {
   "cell_type": "code",
   "execution_count": 1,
   "metadata": {
    "id": "0pzz-uEB2-jm"
   },
   "outputs": [
    {
     "name": "stdout",
     "output_type": "stream",
     "text": [
      "Requirement already satisfied: numpy in c:\\programdata\\anaconda3\\lib\\site-packages (1.20.1)\n",
      "Note: you may need to restart the kernel to use updated packages.\n"
     ]
    }
   ],
   "source": [
    "pip install numpy"
   ]
  },
  {
   "cell_type": "markdown",
   "metadata": {
    "id": "zK4zuLVaTsgh"
   },
   "source": [
    "**[Slide No . 8]**\n",
    "\n",
    "2. Write a program to create numpy 1-D array from list."
   ]
  },
  {
   "cell_type": "code",
   "execution_count": 2,
   "metadata": {},
   "outputs": [],
   "source": [
    "import numpy as np"
   ]
  },
  {
   "cell_type": "code",
   "execution_count": 3,
   "metadata": {
    "id": "fjowgtmX29ky"
   },
   "outputs": [
    {
     "data": {
      "text/plain": [
       "array([10, 20, 30])"
      ]
     },
     "execution_count": 3,
     "metadata": {},
     "output_type": "execute_result"
    }
   ],
   "source": [
    "x=[10,20,30]\n",
    "np.array(x)"
   ]
  },
  {
   "cell_type": "markdown",
   "metadata": {
    "id": "fC_NvOu38rZ2"
   },
   "source": [
    "**[Slide No. 9]**\n",
    "\n",
    "3. Write a program to Create a 2-D array ."
   ]
  },
  {
   "cell_type": "code",
   "execution_count": 4,
   "metadata": {
    "id": "ycA0fqmr26Zn"
   },
   "outputs": [
    {
     "data": {
      "text/plain": [
       "array([[ 1,  2,  3],\n",
       "       [10, 20, 30],\n",
       "       [11, 12, 13]])"
      ]
     },
     "execution_count": 4,
     "metadata": {},
     "output_type": "execute_result"
    }
   ],
   "source": [
    "sss=np.array([[1,2,3],\n",
    "            [10,20,30],\n",
    "            [11,12,13]])\n",
    "sss"
   ]
  },
  {
   "cell_type": "code",
   "execution_count": 5,
   "metadata": {},
   "outputs": [
    {
     "data": {
      "text/plain": [
       "array([[57, 64, 81, 47],\n",
       "       [27, 89, 92, 71],\n",
       "       [ 1,  6, 52, 19]])"
      ]
     },
     "execution_count": 5,
     "metadata": {},
     "output_type": "execute_result"
    }
   ],
   "source": [
    "nn=np.random.randint(100,size=(3,4))\n",
    "nn"
   ]
  },
  {
   "cell_type": "markdown",
   "metadata": {
    "id": "CkuOePHX9QDs"
   },
   "source": [
    "**[Slide No . 11]**\n",
    "\n",
    "5. a=np.array([(1,2,3,4),(3,4,5,6),(7,8,9,10)])\n",
    "\n",
    "\n",
    "\n",
    "What is the output [5 9] ?"
   ]
  },
  {
   "cell_type": "code",
   "execution_count": 6,
   "metadata": {
    "id": "WurFjZS525JP"
   },
   "outputs": [
    {
     "name": "stdout",
     "output_type": "stream",
     "text": [
      "[5 9]\n"
     ]
    }
   ],
   "source": [
    "a=np.array([(1,2,3,4),\n",
    "            (3,4,5,6),\n",
    "            (7,8,9,10)])\n",
    "print(a[1:,2]) #(rows,columns)"
   ]
  },
  {
   "cell_type": "markdown",
   "metadata": {
    "id": "qJFd9Aj79c48"
   },
   "source": [
    "**[Slide No.15]**\n",
    "\n",
    "6. Correct the program .\n",
    "\n",
    "import numpy as np\n",
    "\n",
    "array=np.array([1,2,3,4,5,6])\n",
    "\n",
    "print(array[-1:-5])"
   ]
  },
  {
   "cell_type": "code",
   "execution_count": 7,
   "metadata": {
    "colab": {
     "base_uri": "https://localhost:8080/"
    },
    "executionInfo": {
     "elapsed": 367,
     "status": "ok",
     "timestamp": 1627134427734,
     "user": {
      "displayName": "Rohit Reddy",
      "photoUrl": "",
      "userId": "02730466121517960450"
     },
     "user_tz": -330
    },
    "id": "TuvlrBQH23Wo",
    "outputId": "06870722-c3d6-41a6-f3ff-9d8c7e74d2ae"
   },
   "outputs": [
    {
     "name": "stdout",
     "output_type": "stream",
     "text": [
      "[2 3 4 5]\n"
     ]
    }
   ],
   "source": [
    "array = np.array([1,2,3,4,5,6])\n",
    "\n",
    "print(array[-5:-1])"
   ]
  },
  {
   "cell_type": "markdown",
   "metadata": {
    "id": "ZKKUIxjX9qVE"
   },
   "source": [
    "7. a=np.array([(1,5,9),(10,12,2),(5,7,8)])\n",
    "\n",
    "\n",
    "Print the max value from first row ?\n",
    "\n",
    "print min value from the first row ?\n",
    "\n",
    "print the sum of all the element of second row ?\n",
    "\n",
    "\n"
   ]
  },
  {
   "cell_type": "code",
   "execution_count": 8,
   "metadata": {},
   "outputs": [
    {
     "data": {
      "text/plain": [
       "24"
      ]
     },
     "execution_count": 8,
     "metadata": {},
     "output_type": "execute_result"
    }
   ],
   "source": [
    "a=np.array([(1,5,9),\n",
    "           (10,12,2),\n",
    "           (5,7,8)])\n",
    "np.max(a[0,:])\n",
    "np.min(a[0,:])\n",
    "np.sum(a[1,:])"
   ]
  },
  {
   "cell_type": "code",
   "execution_count": 9,
   "metadata": {
    "colab": {
     "base_uri": "https://localhost:8080/"
    },
    "executionInfo": {
     "elapsed": 366,
     "status": "ok",
     "timestamp": 1627132903237,
     "user": {
      "displayName": "Rohit Reddy",
      "photoUrl": "",
      "userId": "02730466121517960450"
     },
     "user_tz": -330
    },
    "id": "hPepOJE022Sg",
    "outputId": "31669940-9ed1-422a-8866-2a220d170358"
   },
   "outputs": [
    {
     "data": {
      "text/plain": [
       "array([[ 1,  5,  9],\n",
       "       [10, 12,  2],\n",
       "       [ 5,  7,  8]])"
      ]
     },
     "execution_count": 9,
     "metadata": {},
     "output_type": "execute_result"
    }
   ],
   "source": [
    "a=np.array([(1,5,9),(10,12,2),(5,7,8)])\n",
    "a"
   ]
  },
  {
   "cell_type": "code",
   "execution_count": 10,
   "metadata": {
    "colab": {
     "base_uri": "https://localhost:8080/"
    },
    "executionInfo": {
     "elapsed": 359,
     "status": "ok",
     "timestamp": 1627133636337,
     "user": {
      "displayName": "Rohit Reddy",
      "photoUrl": "",
      "userId": "02730466121517960450"
     },
     "user_tz": -330
    },
    "id": "z1I_sNzErnjh",
    "outputId": "c01eedfb-e0b6-441d-a0f7-c14abc2b3d99"
   },
   "outputs": [
    {
     "data": {
      "text/plain": [
       "4"
      ]
     },
     "execution_count": 10,
     "metadata": {},
     "output_type": "execute_result"
    }
   ],
   "source": [
    "import numpy as np\n",
    "np1=np.random.randint(2,9,(3,2,3,4))\n",
    "np1.ndim"
   ]
  },
  {
   "cell_type": "code",
   "execution_count": 11,
   "metadata": {
    "colab": {
     "base_uri": "https://localhost:8080/"
    },
    "executionInfo": {
     "elapsed": 350,
     "status": "ok",
     "timestamp": 1627133400691,
     "user": {
      "displayName": "Rohit Reddy",
      "photoUrl": "",
      "userId": "02730466121517960450"
     },
     "user_tz": -330
    },
    "id": "d40-fZdur8yk",
    "outputId": "a365e5cc-9728-4a8d-885c-68a09b069bb8"
   },
   "outputs": [
    {
     "data": {
      "text/plain": [
       "137"
      ]
     },
     "execution_count": 11,
     "metadata": {},
     "output_type": "execute_result"
    }
   ],
   "source": [
    "np1[0].sum()"
   ]
  },
  {
   "cell_type": "markdown",
   "metadata": {
    "id": "FJdOezKt-NUS"
   },
   "source": [
    "**[Slide No. 16]**\n",
    "\n",
    "\n",
    "8. Create a numpy array using a below numbers and print (1,3,5).\n",
    "\n",
    "[1,2,3,4,5,6]\n",
    "\n"
   ]
  },
  {
   "cell_type": "code",
   "execution_count": 12,
   "metadata": {},
   "outputs": [
    {
     "name": "stdout",
     "output_type": "stream",
     "text": [
      "[[1]\n",
      " [3]\n",
      " [5]]\n"
     ]
    }
   ],
   "source": [
    "x1=np.array([[1,2],\n",
    "           [3,4],\n",
    "           [5,6]])\n",
    "print(x1[0:,:1])"
   ]
  },
  {
   "cell_type": "markdown",
   "metadata": {
    "id": "LbuqYrP_XAsI"
   },
   "source": [
    "**[Slide No. 18]**\n",
    "\n",
    "9. Create a  [3,4] numpy array and reshape it [4,3] numpy array."
   ]
  },
  {
   "cell_type": "code",
   "execution_count": 16,
   "metadata": {},
   "outputs": [
    {
     "data": {
      "text/plain": [
       "array([[49, 96, 18, 11],\n",
       "       [87, 39, 23, 28],\n",
       "       [95, 82, 69, 69]])"
      ]
     },
     "execution_count": 16,
     "metadata": {},
     "output_type": "execute_result"
    }
   ],
   "source": [
    "nn=np.random.randint(100,size=(3,4))\n",
    "nn"
   ]
  },
  {
   "cell_type": "code",
   "execution_count": 17,
   "metadata": {},
   "outputs": [
    {
     "data": {
      "text/plain": [
       "array([[49, 96, 18],\n",
       "       [11, 87, 39],\n",
       "       [23, 28, 95],\n",
       "       [82, 69, 69]])"
      ]
     },
     "execution_count": 17,
     "metadata": {},
     "output_type": "execute_result"
    }
   ],
   "source": [
    "nn1=nn.reshape(4,3)\n",
    "nn1"
   ]
  },
  {
   "cell_type": "markdown",
   "metadata": {
    "id": "GyzvTjl-XSVo"
   },
   "source": [
    "**[Slide No. 20]**\n",
    "\n",
    "10. Create two numpy array and concanate them ."
   ]
  },
  {
   "cell_type": "code",
   "execution_count": 18,
   "metadata": {
    "id": "o6cs23YV2us8",
    "scrolled": true
   },
   "outputs": [
    {
     "name": "stdout",
     "output_type": "stream",
     "text": [
      "[[17 23 58  4  7 42 81 13 59 63]\n",
      " [87 95 38 36 48 26 45 89 11 66]]\n",
      "[[ 5 55 33 17 82 24 90 47 53 33]\n",
      " [77 30 49 17 34 92 67 85 19 10]]\n"
     ]
    },
    {
     "data": {
      "text/plain": [
       "array([[17, 23, 58,  4,  7, 42, 81, 13, 59, 63],\n",
       "       [87, 95, 38, 36, 48, 26, 45, 89, 11, 66],\n",
       "       [ 5, 55, 33, 17, 82, 24, 90, 47, 53, 33],\n",
       "       [77, 30, 49, 17, 34, 92, 67, 85, 19, 10]])"
      ]
     },
     "execution_count": 18,
     "metadata": {},
     "output_type": "execute_result"
    }
   ],
   "source": [
    "nn=np.random.randint(100,size=(2,10))\n",
    "nn1=np.random.randint(100,size=(2,10))\n",
    "print(nn)\n",
    "print(nn1)\n",
    "\n",
    "np.vstack((nn,nn1))"
   ]
  },
  {
   "cell_type": "code",
   "execution_count": 19,
   "metadata": {},
   "outputs": [
    {
     "name": "stdout",
     "output_type": "stream",
     "text": [
      "[[55 22 93 79 80 31 31  3  4 62]\n",
      " [80 17 37 89 10 75 28 36 27 51]]\n",
      "[[28 21 33 77 42 59 68 48 30 26]\n",
      " [71  7 40 53 93 96 91 39 18 41]]\n"
     ]
    },
    {
     "data": {
      "text/plain": [
       "array([[55, 22, 93, 79, 80, 31, 31,  3,  4, 62, 28, 21, 33, 77, 42, 59,\n",
       "        68, 48, 30, 26],\n",
       "       [80, 17, 37, 89, 10, 75, 28, 36, 27, 51, 71,  7, 40, 53, 93, 96,\n",
       "        91, 39, 18, 41]])"
      ]
     },
     "execution_count": 19,
     "metadata": {},
     "output_type": "execute_result"
    }
   ],
   "source": [
    "nn=np.random.randint(100,size=(2,10))\n",
    "nn1=np.random.randint(100,size=(2,10))\n",
    "print(nn)\n",
    "print(nn1)\n",
    "\n",
    "np.hstack((nn,nn1))"
   ]
  },
  {
   "cell_type": "markdown",
   "metadata": {
    "id": "Ryfjekb7Xlyq"
   },
   "source": [
    "**[Slide No.22]**\n",
    "\n",
    "11. Create numpy array and search a number in it ."
   ]
  },
  {
   "cell_type": "code",
   "execution_count": 20,
   "metadata": {
    "colab": {
     "base_uri": "https://localhost:8080/"
    },
    "executionInfo": {
     "elapsed": 359,
     "status": "ok",
     "timestamp": 1627133847900,
     "user": {
      "displayName": "Rohit Reddy",
      "photoUrl": "",
      "userId": "02730466121517960450"
     },
     "user_tz": -330
    },
    "id": "qgKgB9Dg2rz9",
    "outputId": "4aef8c6b-0b54-4453-d910-826f577fc4c8"
   },
   "outputs": [
    {
     "data": {
      "text/plain": [
       "(array([4], dtype=int64),)"
      ]
     },
     "execution_count": 20,
     "metadata": {},
     "output_type": "execute_result"
    }
   ],
   "source": [
    "a=np.arange(0,5)\n",
    "np.where(a==4)"
   ]
  },
  {
   "cell_type": "code",
   "execution_count": 21,
   "metadata": {},
   "outputs": [
    {
     "data": {
      "text/plain": [
       "array([[45, 52, 30, 38, 81, 14, 75, 24, 25, 86],\n",
       "       [56, 14, 53, 87, 67, 32, 92, 53, 17, 84]])"
      ]
     },
     "execution_count": 21,
     "metadata": {},
     "output_type": "execute_result"
    }
   ],
   "source": [
    "nn=np.random.randint(100,size=(2,10))\n",
    "nn"
   ]
  },
  {
   "cell_type": "code",
   "execution_count": 22,
   "metadata": {},
   "outputs": [
    {
     "data": {
      "text/plain": [
       "(array([0], dtype=int64), array([4], dtype=int64))"
      ]
     },
     "execution_count": 22,
     "metadata": {},
     "output_type": "execute_result"
    }
   ],
   "source": [
    "np.where(nn==81)"
   ]
  },
  {
   "cell_type": "markdown",
   "metadata": {
    "id": "_B4fxCpkYVbw"
   },
   "source": [
    "**[Slide No.26]**\n",
    "\n",
    "12. Write a program to print 3,4 numpy array by any random number using random.randint function"
   ]
  },
  {
   "cell_type": "code",
   "execution_count": null,
   "metadata": {
    "id": "VwAdiVxaSEmC"
   },
   "outputs": [],
   "source": []
  },
  {
   "cell_type": "markdown",
   "metadata": {
    "id": "DS48jubBY92B"
   },
   "source": [
    "**[Slide No. 30]**\n",
    "\n",
    "13. Write a program to add two numpy array."
   ]
  },
  {
   "cell_type": "code",
   "execution_count": null,
   "metadata": {
    "id": "GtyiF81f2ptx"
   },
   "outputs": [],
   "source": []
  },
  {
   "cell_type": "markdown",
   "metadata": {
    "id": "UddB37a0-mWx"
   },
   "source": [
    "14. Delete the second column from a given array and insert the following new column in its place.\n",
    "\n",
    "sampleArray = numpy.array([[34,43,73],[82,22,12],[53,94,66]]) \n",
    "\n",
    "newColumn = numpy.array([[10,10,10]])"
   ]
  },
  {
   "cell_type": "code",
   "execution_count": 23,
   "metadata": {
    "executionInfo": {
     "elapsed": 5,
     "status": "ok",
     "timestamp": 1627132419872,
     "user": {
      "displayName": "Rohit Reddy",
      "photoUrl": "",
      "userId": "02730466121517960450"
     },
     "user_tz": -330
    },
    "id": "a1ENVEHd2nab"
   },
   "outputs": [],
   "source": [
    "import numpy as np\n"
   ]
  },
  {
   "cell_type": "code",
   "execution_count": 24,
   "metadata": {
    "colab": {
     "base_uri": "https://localhost:8080/"
    },
    "executionInfo": {
     "elapsed": 359,
     "status": "ok",
     "timestamp": 1627134670638,
     "user": {
      "displayName": "Rohit Reddy",
      "photoUrl": "",
      "userId": "02730466121517960450"
     },
     "user_tz": -330
    },
    "id": "tt-6WJfjphat",
    "outputId": "c0961764-f475-450e-c01f-974c6b303fba"
   },
   "outputs": [
    {
     "name": "stdout",
     "output_type": "stream",
     "text": [
      "[[34 43 73]\n",
      " [53 94 66]]\n"
     ]
    }
   ],
   "source": [
    "sampleArray = np.array([[34,43,73],[82,22,12],[53,94,66]])\n",
    "newColumn = np.array([[10,10,10]])\n",
    "sampleArray = np.delete(sampleArray, 1, axis = 0)\n",
    "print(sampleArray)\n",
    "sampleArray = np.insert(sampleArray, 1, newColumn, axis = 0)\n",
    "#print(sampleArray)"
   ]
  },
  {
   "cell_type": "code",
   "execution_count": 25,
   "metadata": {
    "colab": {
     "base_uri": "https://localhost:8080/"
    },
    "executionInfo": {
     "elapsed": 380,
     "status": "ok",
     "timestamp": 1627134726611,
     "user": {
      "displayName": "Rohit Reddy",
      "photoUrl": "",
      "userId": "02730466121517960450"
     },
     "user_tz": -330
    },
    "id": "fL6Z08EXyF_e",
    "outputId": "72084633-16b5-4fce-e77b-b33eba97607d"
   },
   "outputs": [
    {
     "data": {
      "text/plain": [
       "array([[34, 43, 73],\n",
       "       [82, 22, 12],\n",
       "       [53, 94, 66]])"
      ]
     },
     "execution_count": 25,
     "metadata": {},
     "output_type": "execute_result"
    }
   ],
   "source": [
    "sampleArray = np.array([[34,43,73],[82,22,12],[53,94,66]])\n",
    "sampleArray"
   ]
  },
  {
   "cell_type": "code",
   "execution_count": 26,
   "metadata": {
    "executionInfo": {
     "elapsed": 373,
     "status": "ok",
     "timestamp": 1627134753755,
     "user": {
      "displayName": "Rohit Reddy",
      "photoUrl": "",
      "userId": "02730466121517960450"
     },
     "user_tz": -330
    },
    "id": "U8iNvoX8yY3z"
   },
   "outputs": [],
   "source": [
    "sampleArray[:,1]=[10,10,10]"
   ]
  },
  {
   "cell_type": "code",
   "execution_count": 27,
   "metadata": {
    "colab": {
     "base_uri": "https://localhost:8080/"
    },
    "executionInfo": {
     "elapsed": 353,
     "status": "ok",
     "timestamp": 1627134758343,
     "user": {
      "displayName": "Rohit Reddy",
      "photoUrl": "",
      "userId": "02730466121517960450"
     },
     "user_tz": -330
    },
    "id": "J0U-4-AwyfgV",
    "outputId": "39c2ee95-88a2-47a0-f04f-e5c0707a14b6"
   },
   "outputs": [
    {
     "data": {
      "text/plain": [
       "array([[34, 10, 73],\n",
       "       [82, 10, 12],\n",
       "       [53, 10, 66]])"
      ]
     },
     "execution_count": 27,
     "metadata": {},
     "output_type": "execute_result"
    }
   ],
   "source": [
    "sampleArray"
   ]
  }
 ],
 "metadata": {
  "colab": {
   "collapsed_sections": [],
   "name": "Numpy_ass.ipynb",
   "provenance": []
  },
  "kernelspec": {
   "display_name": "Python 3",
   "language": "python",
   "name": "python3"
  },
  "language_info": {
   "codemirror_mode": {
    "name": "ipython",
    "version": 3
   },
   "file_extension": ".py",
   "mimetype": "text/x-python",
   "name": "python",
   "nbconvert_exporter": "python",
   "pygments_lexer": "ipython3",
   "version": "3.8.8"
  }
 },
 "nbformat": 4,
 "nbformat_minor": 1
}
